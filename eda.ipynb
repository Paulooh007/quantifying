{
 "cells": [
  {
   "cell_type": "code",
   "execution_count": 1,
   "id": "second-congo",
   "metadata": {},
   "outputs": [],
   "source": [
    "import pandas as pd\n",
    "import seaborn as sns\n",
    "import matplotlib.pyplot as plt\n",
    "import json\n",
    "\n",
    "\n",
    "pd.options.display.float_format = '{:,}'.format"
   ]
  },
  {
   "cell_type": "code",
   "execution_count": 2,
   "id": "limited-appraisal",
   "metadata": {},
   "outputs": [],
   "source": [
    "def show_diff_stats(filepath1, filepath2):\n",
    "    data1 = pd.read_csv(filepath1)\n",
    "    data2 = pd.read_csv(filepath2)\n",
    "    \n",
    "    merged_data = pd.merge(data1, data2, on='LICENSE TYPE', suffixes=('_1', '_2'))\n",
    "    \n",
    "    # Compute the difference in amounts between the two datasets\n",
    "    merged_data['count_diff'] = abs(merged_data['Document Count_2'] - merged_data['Document Count_1'])\n",
    "\n",
    "    # Compute summary statistics on the amount difference\n",
    "    print(merged_data['count_diff'].describe().loc[['count',\"min\",\"50%\",'max']])\n",
    "\n",
    "\n",
    "    # Create a histogram of the amount difference\n",
    "    sns.histplot(data=merged_data, x='count_diff')\n",
    "    plt.title(\"Distribution of document count differences \")\n",
    "    plt.show()\n",
    "       "
   ]
  },
  {
   "cell_type": "code",
   "execution_count": 3,
   "id": "adjacent-result",
   "metadata": {},
   "outputs": [
    {
     "name": "stdout",
     "output_type": "stream",
     "text": [
      "count         8.0\n",
      "min       5,125.0\n",
      "50%      54,370.5\n",
      "max     349,001.0\n",
      "Name: count_diff, dtype: float64\n"
     ]
    },
    {
     "data": {
      "image/png": "[encoded data removed]",
      "text/plain": [
       "<Figure size 432x288 with 1 Axes>"
      ]
     },
     "metadata": {
      "needs_background": "light"
     },
     "output_type": "display_data"
    }
   ],
   "source": [
    "show_diff_stats(\"./vimeo/data_vimeo_2022_10_29.csv\",\\\n",
    "                \"./vimeo/data_vimeo_2023_3_14.csv\")"
   ]
  },
  {
   "cell_type": "code",
   "execution_count": 4,
   "id": "scientific-composite",
   "metadata": {},
   "outputs": [
    {
     "name": "stdout",
     "output_type": "stream",
     "text": [
      "count           49.0\n",
      "min              0.0\n",
      "50%      2,400,000.0\n",
      "max     21,000,000.0\n",
      "Name: count_diff, dtype: float64\n"
     ]
    },
    {
     "data": {
      "image/png": "[encoded data removed]",
      "text/plain": [
       "<Figure size 432x288 with 1 Axes>"
      ]
     },
     "metadata": {
      "needs_background": "light"
     },
     "output_type": "display_data"
    }
   ],
   "source": [
    "show_diff_stats(\"./deviantart/data_deviantart_2022_10_30.csv\",\\\n",
    "                \"./deviantart/data_deviantart_2023_3_14.csv\")"
   ]
  },
  {
   "cell_type": "code",
   "execution_count": 5,
   "id": "lined-analysis",
   "metadata": {},
   "outputs": [],
   "source": [
    "def transform_flickr(filepath):\n",
    "    with open(filepath, 'r') as f1:\n",
    "        data = json.load(f1)\n",
    "    total = {}\n",
    "    for key in data.keys():\n",
    "        total[key] = data[key][0][\"photos\"][\"total\"]\n",
    "        \n",
    "    data = pd.DataFrame.from_dict(total, orient='index', columns=['Document Count'])\n",
    "    data['LICENSE TYPE'] = data.index\n",
    "    data.reset_index(drop=True, inplace=True)\n",
    "    \n",
    "    data = data[['LICENSE TYPE','Document Count']]\n",
    "    \n",
    "    return data\n",
    "    "
   ]
  },
  {
   "cell_type": "code",
   "execution_count": 14,
   "id": "final-marine",
   "metadata": {},
   "outputs": [],
   "source": [
    "def get_stats(filepath1, filepath2, data_source, other_col = \"Document Count\"):\n",
    "    data1 = pd.read_csv(filepath1)\n",
    "    data2 = pd.read_csv(filepath2)\n",
    "    \n",
    "    merged_data = pd.merge(data1, data2, on='LICENSE TYPE', suffixes=('_1', '_2'))\n",
    "    \n",
    "    # Compute the difference in amounts between the two datasets\n",
    "    merged_data['count_diff'] = abs(merged_data[f'{other_col}_2'] - merged_data[f'{other_col}_1'])\n",
    "\n",
    "    print(merged_data['count_diff'].describe().loc[[\"min\",\"50%\",'max']])\n",
    "    \n",
    "    stats = merged_data['count_diff'].describe().loc[[\"min\",\"50%\",'max']].to_list()\n",
    "    temp = {data_source: stats}\n",
    "    df = pd.DataFrame(temp, index=[\"Min Difference\", \"Median Difference\", \"Max Difference\"]).T\n",
    "    \n",
    "    return df\n",
    "    \n",
    "def get_stats_flickr(data1, data2, data_source = \"Flickr\"):\n",
    "    \n",
    "    merged_data = pd.merge(data1, data2, on='LICENSE TYPE', suffixes=('_1', '_2'))\n",
    "    \n",
    "    # Compute the difference in amounts between the two datasets\n",
    "    merged_data['count_diff'] = abs(merged_data['Document Count_2'] - merged_data['Document Count_1'])\n",
    "\n",
    "    print(merged_data['count_diff'].describe().loc[[\"min\",\"50%\",'max']])\n",
    "    \n",
    "    stats = merged_data['count_diff'].describe().loc[[\"min\",\"50%\",'max']].to_list()\n",
    "    temp = {data_source: stats}\n",
    "    df = pd.DataFrame(temp, index=[\"Min Difference\", \"Median Difference\", \"Max Difference\"]).T\n",
    "    \n",
    "    return df\n",
    "    \n",
    "    \n",
    "    "
   ]
  },
  {
   "cell_type": "code",
   "execution_count": 15,
   "id": "played-faculty",
   "metadata": {},
   "outputs": [
    {
     "name": "stdout",
     "output_type": "stream",
     "text": [
      "min            0.0\n",
      "50%    1,400,000.0\n",
      "max   15,500,000.0\n",
      "Name: count_diff, dtype: float64\n"
     ]
    }
   ],
   "source": [
    "deviantart = get_stats(\"./deviantart/data_deviantart_2023_3_14.csv\",\\\n",
    "                \"./deviantart/data_deviantart_2023_3_16.csv\", \"DeviantArt\")"
   ]
  },
  {
   "cell_type": "code",
   "execution_count": 16,
   "id": "precise-title",
   "metadata": {},
   "outputs": [
    {
     "name": "stdout",
     "output_type": "stream",
     "text": [
      "min     5,125.0\n",
      "50%    54,370.5\n",
      "max   349,001.0\n",
      "Name: count_diff, dtype: float64\n"
     ]
    }
   ],
   "source": [
    "vimeo = get_stats(\"./vimeo/data_vimeo_2022_10_29.csv\",\\\n",
    "                \"./vimeo/data_vimeo_2023_3_14.csv\", \"Vimeo\")"
   ]
  },
  {
   "cell_type": "code",
   "execution_count": 17,
   "id": "champion-guard",
   "metadata": {},
   "outputs": [
    {
     "name": "stdout",
     "output_type": "stream",
     "text": [
      "min    1,817.0\n",
      "50%    4,677.5\n",
      "max   23,853.0\n",
      "Name: count_diff, dtype: float64\n"
     ]
    }
   ],
   "source": [
    "flickr = get_stats_flickr(transform_flickr(\"flickr/photos_.json\"),\n",
    "                          transform_flickr(\"flickr/photos.json\"))"
   ]
  },
  {
   "cell_type": "code",
   "execution_count": 18,
   "id": "designing-memorabilia",
   "metadata": {},
   "outputs": [
    {
     "name": "stdout",
     "output_type": "stream",
     "text": [
      "min        0.0\n",
      "50%        0.0\n",
      "max   12,839.0\n",
      "Name: count_diff, dtype: float64\n"
     ]
    }
   ],
   "source": [
    "internet_archive = get_stats(\"internetarchive/data_internetarchive_2022_10_20.csv\",\n",
    "                            \"internetarchive/data_internetarchive_2023_3_14.csv\", data_source=\"InternetArchive\")"
   ]
  },
  {
   "cell_type": "code",
   "execution_count": 19,
   "id": "quarterly-rings",
   "metadata": {},
   "outputs": [
    {
     "name": "stdout",
     "output_type": "stream",
     "text": [
      "min           0.0\n",
      "50%           1.0\n",
      "max   1,081,947.0\n",
      "Name: count_diff, dtype: float64\n"
     ]
    }
   ],
   "source": [
    "wikicommons = get_stats(\"wikicommons/data_wikicommons_2022_10_21.csv\", \n",
    "                        \"wikicommons/data_wikicommons_2023_3_14.csv\", \n",
    "                        data_source=\"Wikicommons\",\n",
    "                       other_col=\"File Count\")"
   ]
  },
  {
   "cell_type": "code",
   "execution_count": 22,
   "id": "ultimate-norway",
   "metadata": {},
   "outputs": [],
   "source": [
    "summary = pd.concat([wikicommons, flickr, deviantart, internet_archive, vimeo]).sort_values(by = \"Max Difference\", ascending=False)"
   ]
  },
  {
   "cell_type": "code",
   "execution_count": 23,
   "id": "opposed-worthy",
   "metadata": {},
   "outputs": [
    {
     "data": {
      "text/html": [
       "<div>\n",
       "<style scoped>\n",
       "    .dataframe tbody tr th:only-of-type {\n",
       "        vertical-align: middle;\n",
       "    }\n",
       "\n",
       "    .dataframe tbody tr th {\n",
       "        vertical-align: top;\n",
       "    }\n",
       "\n",
       "    .dataframe thead th {\n",
       "        text-align: right;\n",
       "    }\n",
       "</style>\n",
       "<table border=\"1\" class=\"dataframe\">\n",
       "  <thead>\n",
       "    <tr style=\"text-align: right;\">\n",
       "      <th></th>\n",
       "      <th>Min Difference</th>\n",
       "      <th>Median Difference</th>\n",
       "      <th>Max Difference</th>\n",
       "    </tr>\n",
       "  </thead>\n",
       "  <tbody>\n",
       "    <tr>\n",
       "      <th>DeviantArt</th>\n",
       "      <td>0.0</td>\n",
       "      <td>1,400,000.0</td>\n",
       "      <td>15,500,000.0</td>\n",
       "    </tr>\n",
       "    <tr>\n",
       "      <th>Wikicommons</th>\n",
       "      <td>0.0</td>\n",
       "      <td>1.0</td>\n",
       "      <td>1,081,947.0</td>\n",
       "    </tr>\n",
       "    <tr>\n",
       "      <th>Vimeo</th>\n",
       "      <td>5,125.0</td>\n",
       "      <td>54,370.5</td>\n",
       "      <td>349,001.0</td>\n",
       "    </tr>\n",
       "    <tr>\n",
       "      <th>Flickr</th>\n",
       "      <td>1,817.0</td>\n",
       "      <td>4,677.5</td>\n",
       "      <td>23,853.0</td>\n",
       "    </tr>\n",
       "    <tr>\n",
       "      <th>InternetArchive</th>\n",
       "      <td>0.0</td>\n",
       "      <td>0.0</td>\n",
       "      <td>12,839.0</td>\n",
       "    </tr>\n",
       "  </tbody>\n",
       "</table>\n",
       "</div>"
      ],
      "text/plain": [
       "                 Min Difference  Median Difference  Max Difference\n",
       "DeviantArt                  0.0        1,400,000.0    15,500,000.0\n",
       "Wikicommons                 0.0                1.0     1,081,947.0\n",
       "Vimeo                   5,125.0           54,370.5       349,001.0\n",
       "Flickr                  1,817.0            4,677.5        23,853.0\n",
       "InternetArchive             0.0                0.0        12,839.0"
      ]
     },
     "execution_count": 23,
     "metadata": {},
     "output_type": "execute_result"
    }
   ],
   "source": [
    "summary"
   ]
  },
  {
   "cell_type": "code",
   "execution_count": null,
   "id": "lyric-junior",
   "metadata": {},
   "outputs": [],
   "source": []
  }
 ],
 "metadata": {
  "kernelspec": {
   "display_name": "Python 3",
   "language": "python",
   "name": "python3"
  },
  "language_info": {
   "codemirror_mode": {
    "name": "ipython",
    "version": 3
   },
   "file_extension": ".py",
   "mimetype": "text/x-python",
   "name": "python",
   "nbconvert_exporter": "python",
   "pygments_lexer": "ipython3",
   "version": "3.8.5"
  }
 },
 "nbformat": 4,
 "nbformat_minor": 5
}
